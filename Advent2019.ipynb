{
 "cells": [
  {
   "cell_type": "markdown",
   "metadata": {
    "ein.tags": "worksheet-0",
    "slideshow": {
     "slide_type": "-"
    }
   },
   "source": [
    "# AoC 2019"
   ]
  },
  {
   "cell_type": "code",
   "execution_count": 1,
   "metadata": {
    "autoscroll": false,
    "ein.hycell": false,
    "ein.tags": "worksheet-0",
    "slideshow": {
     "slide_type": "-"
    }
   },
   "outputs": [],
   "source": [
    "import ipdb\n",
    "import numpy as np\n",
    "import matplotlib.pyplot as plt\n",
    "from itertools import product\n",
    "\n",
    "fid = lambda x: x\n",
    "\n",
    "def Input(filename, split = str.split, mapt = int):\n",
    "    with open(filename) as fo:\n",
    "        return list(map(mapt, split(fo.read())))\n",
    "    \n",
    "def split(char):\n",
    "    return lambda x: x.split(char)"
   ]
  },
  {
   "cell_type": "code",
   "execution_count": 2,
   "metadata": {
    "autoscroll": false,
    "ein.hycell": false,
    "ein.tags": "worksheet-0",
    "slideshow": {
     "slide_type": "-"
    }
   },
   "outputs": [],
   "source": [
    "class Point:\n",
    "    def __init__(self,x,y):\n",
    "        self.x = x\n",
    "        self.y = y\n",
    "        self.t = (x, y)\n",
    "        self.m = abs(x) + abs(y)\n",
    "\n",
    "    def __add__(self, c):\n",
    "        return Point(self.x + c.x, self.y + c.y)\n",
    "\n",
    "    def __sub__(self, c):\n",
    "        return Point(self.x - c.x, self.y - c.y)\n",
    "\n",
    "    def __eq__(self,c):\n",
    "        return self.x == c.x and self.y == c.y\n",
    "    \n",
    "    def __iter__(self):\n",
    "        return self.t.__iter__()\n",
    "    \n",
    "    def __repr__(self):\n",
    "        return \"Point\" + self.t.__repr__()\n",
    "    \n",
    "    def __hash__(self):\n",
    "        return hash(self.t)"
   ]
  },
  {
   "cell_type": "markdown",
   "metadata": {
    "ein.tags": "worksheet-0",
    "slideshow": {
     "slide_type": "-"
    }
   },
   "source": [
    "## Day 1"
   ]
  },
  {
   "cell_type": "code",
   "execution_count": 4,
   "metadata": {
    "autoscroll": false,
    "ein.hycell": false,
    "ein.tags": "worksheet-0",
    "slideshow": {
     "slide_type": "-"
    }
   },
   "outputs": [
    {
     "data": {
      "text/plain": [
       "3216868"
      ]
     },
     "execution_count": 4,
     "metadata": {},
     "output_type": "execute_result"
    }
   ],
   "source": [
    "source = Input(\"src/inputs/01.input\")\n",
    "sum([int(n/3) - 2 for n in source])"
   ]
  },
  {
   "cell_type": "code",
   "execution_count": 5,
   "metadata": {
    "autoscroll": false,
    "ein.hycell": false,
    "ein.tags": "worksheet-0",
    "slideshow": {
     "slide_type": "-"
    }
   },
   "outputs": [],
   "source": [
    "def calc_fuel(value):\n",
    "    fuel = int(value / 3) - 2\n",
    "    if fuel <= 0:\n",
    "        return 0\n",
    "    return fuel + calc_fuel(fuel)"
   ]
  },
  {
   "cell_type": "code",
   "execution_count": 6,
   "metadata": {
    "autoscroll": false,
    "ein.hycell": false,
    "ein.tags": "worksheet-0",
    "slideshow": {
     "slide_type": "-"
    }
   },
   "outputs": [
    {
     "data": {
      "text/plain": [
       "4822435"
      ]
     },
     "execution_count": 6,
     "metadata": {},
     "output_type": "execute_result"
    }
   ],
   "source": [
    "sum(map(calc_fuel, source))"
   ]
  },
  {
   "cell_type": "markdown",
   "metadata": {
    "ein.tags": "worksheet-0",
    "slideshow": {
     "slide_type": "-"
    }
   },
   "source": [
    "## Day 2"
   ]
  },
  {
   "cell_type": "code",
   "execution_count": 10,
   "metadata": {
    "autoscroll": false,
    "ein.hycell": false,
    "ein.tags": "worksheet-0",
    "slideshow": {
     "slide_type": "-"
    }
   },
   "outputs": [],
   "source": [
    "source = Input(\"src/inputs/02.input\", split=split(\",\"))"
   ]
  },
  {
   "cell_type": "code",
   "execution_count": 11,
   "metadata": {
    "autoscroll": false,
    "ein.hycell": false,
    "ein.tags": "worksheet-0",
    "slideshow": {
     "slide_type": "-"
    }
   },
   "outputs": [],
   "source": [
    "def parse_source(source):\n",
    "    return list(map(int, source.split(\",\")))\n",
    "\n",
    "def parse_code(source):\n",
    "    cursor = 0\n",
    "    opcode = 0\n",
    "    while True:\n",
    "        opcode = source[cursor]\n",
    "        if opcode == 99:\n",
    "            break\n",
    "        p1, p2, pr = source[cursor+1:cursor+4]\n",
    "        if opcode == 1:\n",
    "            source[pr] = source[p1] + source[p2]\n",
    "        elif opcode == 2:\n",
    "            source[pr] = source[p1] * source[p2]\n",
    "        cursor += 4\n",
    "    return source\n",
    "\n",
    "def print_solution(source):\n",
    "    print(\",\".join(map(str, parse_code(parse_source(source)))))"
   ]
  },
  {
   "cell_type": "code",
   "execution_count": 12,
   "metadata": {
    "autoscroll": false,
    "ein.hycell": false,
    "ein.tags": "worksheet-0",
    "slideshow": {
     "slide_type": "-"
    }
   },
   "outputs": [
    {
     "name": "stdout",
     "output_type": "stream",
     "text": [
      "3500,9,10,70,2,3,11,0,99,30,40,50\n",
      "30,1,1,4,2,5,6,0,99\n"
     ]
    }
   ],
   "source": [
    "print_solution(\"1,9,10,3,2,3,11,0,99,30,40,50\")\n",
    "print_solution(\"1,1,1,4,99,5,6,0,99\")"
   ]
  },
  {
   "cell_type": "code",
   "execution_count": 13,
   "metadata": {
    "autoscroll": false,
    "ein.hycell": false,
    "ein.tags": "worksheet-0",
    "slideshow": {
     "slide_type": "-"
    }
   },
   "outputs": [],
   "source": [
    "new_source = source.copy()\n",
    "new_source[1] = 12\n",
    "new_source[2] = 2"
   ]
  },
  {
   "cell_type": "code",
   "execution_count": 14,
   "metadata": {
    "autoscroll": false,
    "ein.hycell": false,
    "ein.tags": "worksheet-0",
    "slideshow": {
     "slide_type": "-"
    }
   },
   "outputs": [
    {
     "name": "stdout",
     "output_type": "stream",
     "text": [
      "4945026\n"
     ]
    }
   ],
   "source": [
    "print(parse_code(new_source.copy())[0])"
   ]
  },
  {
   "cell_type": "code",
   "execution_count": 11,
   "metadata": {
    "autoscroll": false,
    "ein.hycell": false,
    "ein.tags": "worksheet-0",
    "slideshow": {
     "slide_type": "-"
    }
   },
   "outputs": [],
   "source": [
    "def try_noun_verb(source):\n",
    "    for noun, verb in product(range(100), range(100)):\n",
    "        new_source = source.copy()\n",
    "        new_source[1] = noun\n",
    "        new_source[2] = verb\n",
    "        if parse_code(new_source.copy())[0] == 19690720:\n",
    "            print(noun, verb)\n",
    "            break"
   ]
  },
  {
   "cell_type": "code",
   "execution_count": 12,
   "metadata": {
    "autoscroll": false,
    "ein.hycell": false,
    "ein.tags": "worksheet-0",
    "slideshow": {
     "slide_type": "-"
    }
   },
   "outputs": [
    {
     "name": "stdout",
     "output_type": "stream",
     "text": [
      "52 96\n"
     ]
    }
   ],
   "source": [
    "try_noun_verb(source)"
   ]
  },
  {
   "cell_type": "code",
   "execution_count": 13,
   "metadata": {
    "autoscroll": false,
    "ein.hycell": false,
    "ein.tags": "worksheet-0",
    "slideshow": {
     "slide_type": "-"
    }
   },
   "outputs": [
    {
     "data": {
      "text/plain": [
       "5296"
      ]
     },
     "execution_count": 13,
     "metadata": {},
     "output_type": "execute_result"
    }
   ],
   "source": [
    "100 * 52 + 96"
   ]
  },
  {
   "cell_type": "markdown",
   "metadata": {
    "ein.tags": "worksheet-0",
    "slideshow": {
     "slide_type": "-"
    }
   },
   "source": [
    "## Day 3"
   ]
  },
  {
   "cell_type": "code",
   "execution_count": 17,
   "metadata": {
    "autoscroll": false,
    "ein.hycell": false,
    "ein.tags": "worksheet-0",
    "slideshow": {
     "slide_type": "-"
    }
   },
   "outputs": [],
   "source": [
    "source = Input(\"src/inputs/03.input\", mapt=fid)"
   ]
  },
  {
   "cell_type": "code",
   "execution_count": 18,
   "metadata": {
    "autoscroll": false,
    "ein.hycell": false,
    "ein.tags": "worksheet-0",
    "slideshow": {
     "slide_type": "-"
    }
   },
   "outputs": [],
   "source": [
    "directions = {\n",
    "    \"R\": Point(1, 0),\n",
    "    \"L\": Point(-1, 0),\n",
    "    \"U\": Point(0, 1),\n",
    "    \"D\": Point(0, -1)\n",
    "}"
   ]
  },
  {
   "cell_type": "code",
   "execution_count": 19,
   "metadata": {
    "autoscroll": false,
    "ein.hycell": false,
    "ein.tags": "worksheet-0",
    "slideshow": {
     "slide_type": "-"
    }
   },
   "outputs": [],
   "source": [
    "crossed = {}\n",
    "intersections = {}\n",
    "coord = Point(0, 0)\n",
    "steps = 0\n",
    "for instruction in source[0].split(\",\"):\n",
    "    d, l = instruction[0], int(instruction[1:])\n",
    "    for _ in range(l):\n",
    "        steps += 1\n",
    "        coord += directions[d]\n",
    "        if coord not in crossed:\n",
    "            crossed[coord] = steps\n",
    "\n",
    "steps = 0\n",
    "coord = Point(0, 0)\n",
    "for instruction in source[1].split(\",\"):\n",
    "    d, l = instruction[0], int(instruction[1:])\n",
    "    for _ in range(l):\n",
    "        steps += 1\n",
    "        coord += directions[d]\n",
    "        if coord in crossed and coord not in intersections:\n",
    "            intersections[coord] = crossed[coord] + steps\n",
    "        elif coord in crossed and coord in intersections:\n",
    "            intersections[coord] = min(intersections[coord], crossed[coord] + steps)"
   ]
  },
  {
   "cell_type": "code",
   "execution_count": 21,
   "metadata": {},
   "outputs": [
    {
     "data": {
      "text/plain": [
       "{Point(2374, 123): 49562,\n",
       " Point(2890, 467): 37390,\n",
       " Point(2890, 810): 49562,\n",
       " Point(2731, 810): 50326,\n",
       " Point(2931, 810): 50512,\n",
       " Point(1954, 960): 57724,\n",
       " Point(1767, 938): 57724,\n",
       " Point(1311, 803): 57724,\n",
       " Point(1888, 960): 59430,\n",
       " Point(2834, 810): 75056,\n",
       " Point(2834, 467): 63458,\n",
       " Point(2894, 361): 63790,\n",
       " Point(2927, 361): 74684,\n",
       " Point(3286, -172): 70124,\n",
       " Point(3286, -301): 67796,\n",
       " Point(3286, -423): 79346,\n",
       " Point(3286, -558): 74684,\n",
       " Point(2594, -631): 72426,\n",
       " Point(2565, -301): 68456,\n",
       " Point(2530, -141): 68456,\n",
       " Point(2594, -1005): 75402,\n",
       " Point(2999, -1005): 76948,\n",
       " Point(3155, -697): 77876,\n",
       " Point(3155, -558): 79190,\n",
       " Point(3155, -423): 83860,\n",
       " Point(2927, -381): 80000,\n",
       " Point(2857, -381): 75998,\n",
       " Point(2844, -381): 83860,\n",
       " Point(2844, -322): 84176,\n",
       " Point(2857, -322): 76340,\n",
       " Point(2927, -322): 80600,\n",
       " Point(3264, -301): 73710,\n",
       " Point(3264, -172): 76340,\n",
       " Point(3381, -172): 76408,\n",
       " Point(3381, -301): 74270,\n",
       " Point(3381, -423): 85820,\n",
       " Point(3381, -558): 80968,\n",
       " Point(3381, -697): 80384,\n",
       " Point(2999, -887): 80384,\n",
       " Point(3034, -697): 81784,\n",
       " Point(1197, 803): 152498,\n",
       " Point(990, 274): 153422}"
      ]
     },
     "execution_count": 21,
     "metadata": {},
     "output_type": "execute_result"
    }
   ],
   "source": [
    "intersections"
   ]
  },
  {
   "cell_type": "markdown",
   "metadata": {
    "ein.tags": "worksheet-0",
    "slideshow": {
     "slide_type": "-"
    }
   },
   "source": [
    "## Day 4"
   ]
  },
  {
   "cell_type": "code",
   "execution_count": 17,
   "metadata": {
    "autoscroll": false,
    "ein.hycell": false,
    "ein.tags": "worksheet-0",
    "slideshow": {
     "slide_type": "-"
    }
   },
   "outputs": [],
   "source": [
    "def check_number(n):\n",
    "    digits = tuple(map(int,list(str(n))))\n",
    "    adjacent = False\n",
    "    if digits[0] == digits[1] and digits[0] != digits[2]:\n",
    "        adjacent = True\n",
    "    if digits[4] == digits[5] and digits[4] != digits[3]:\n",
    "        adjacent = True\n",
    "    for i in [1,2,3]:\n",
    "        if digits[i] == digits[i + 1] and digits[i] != digits[i + 2] and digits[i] != digits[i - 1]:\n",
    "            adjacent = True\n",
    "    for i in range(5):\n",
    "        if digits[i] > digits[i + 1]:\n",
    "            return False\n",
    "    return adjacent"
   ]
  },
  {
   "cell_type": "code",
   "execution_count": 18,
   "metadata": {
    "autoscroll": false,
    "ein.hycell": false,
    "ein.tags": "worksheet-0",
    "slideshow": {
     "slide_type": "-"
    }
   },
   "outputs": [
    {
     "data": {
      "text/plain": [
       "1253"
      ]
     },
     "execution_count": 18,
     "metadata": {},
     "output_type": "execute_result"
    }
   ],
   "source": [
    "len(list(filter(check_number, range(138307, 654504))))"
   ]
  },
  {
   "cell_type": "markdown",
   "metadata": {
    "ein.tags": "worksheet-0",
    "slideshow": {
     "slide_type": "-"
    }
   },
   "source": [
    "## Day 5"
   ]
  },
  {
   "cell_type": "code",
   "execution_count": 25,
   "metadata": {
    "autoscroll": false,
    "ein.hycell": false,
    "ein.tags": "worksheet-0",
    "slideshow": {
     "slide_type": "-"
    }
   },
   "outputs": [],
   "source": [
    "source = Input(\"src/inputs/05.input\", split=split(\",\"))"
   ]
  },
  {
   "cell_type": "code",
   "execution_count": 26,
   "metadata": {
    "autoscroll": false,
    "ein.hycell": false,
    "ein.tags": "worksheet-0",
    "slideshow": {
     "slide_type": "-"
    }
   },
   "outputs": [],
   "source": [
    "def parse_source(source):\n",
    "    return list(map(int, source.split(\",\")))\n",
    "\n",
    "    \n",
    "def parse_line(line, source):\n",
    "    i = 100\n",
    "    opcode = line[0]\n",
    "    for p in line[1:]:\n",
    "        if int(opcode / i) % 10:\n",
    "            yield p\n",
    "        else:\n",
    "            yield source[p]\n",
    "        i *= 10\n",
    "   \n",
    "def parse_code(source):\n",
    "    cursor = 0\n",
    "    opcode = 0\n",
    "    i = 0\n",
    "    while True:\n",
    "        i += 1\n",
    "        opcode = source[cursor] % 100\n",
    "        if opcode == 99:\n",
    "            break\n",
    "        elif opcode == 1:\n",
    "            p1, p2 = parse_line(source[cursor:cursor+3], source)\n",
    "            p3 = source[cursor + 3]\n",
    "            source[p3] = p1 + p2\n",
    "            cursor += 4\n",
    "        elif opcode == 2:\n",
    "            p1, p2 = parse_line(source[cursor:cursor+3], source)\n",
    "            p3 = source[cursor + 3]\n",
    "            source[p3] = p1 * p2\n",
    "            cursor += 4\n",
    "        elif opcode == 3:\n",
    "            p1 = source[cursor + 1]\n",
    "            source[p1] = int(input())\n",
    "            cursor += 2\n",
    "        elif opcode == 4:\n",
    "            p1, = parse_line(source[cursor: cursor+2], source)\n",
    "            print(p1)\n",
    "            cursor += 2\n",
    "        elif opcode == 5:\n",
    "            p1, p2 = parse_line(source[cursor:cursor+3], source)\n",
    "            if p1 != 0:\n",
    "                cursor = p2\n",
    "            else:\n",
    "                cursor += 3\n",
    "        elif opcode == 6:\n",
    "            p1, p2 = parse_line(source[cursor:cursor+3], source)\n",
    "            if p1 == 0:\n",
    "                cursor = p2\n",
    "            else:\n",
    "                cursor += 3\n",
    "        elif opcode == 7:\n",
    "            p1, p2 = parse_line(source[cursor:cursor+3], source)\n",
    "            p3 = source[cursor + 3]\n",
    "            if p1 < p2:\n",
    "                source[p3] = 1\n",
    "            else:\n",
    "                source[p3] = 0\n",
    "            cursor += 4\n",
    "        elif opcode == 8:\n",
    "            p1, p2 = parse_line(source[cursor:cursor+3], source)\n",
    "            p3 = source[cursor + 3]\n",
    "            if p1 == p2:\n",
    "                source[p3] = 1\n",
    "            else:\n",
    "                source[p3] = 0\n",
    "            cursor += 4\n",
    "            \n",
    "    return source\n",
    "\n",
    "def print_solution(source):\n",
    "    print(\",\".join(map(str, parse_code(parse_source(source)))))"
   ]
  },
  {
   "cell_type": "code",
   "execution_count": 27,
   "metadata": {
    "autoscroll": false,
    "ein.hycell": false,
    "ein.tags": "worksheet-0",
    "slideshow": {
     "slide_type": "-"
    }
   },
   "outputs": [
    {
     "name": "stdout",
     "output_type": "stream",
     "text": [
      "1\n",
      "0\n",
      "0\n",
      "0\n",
      "0\n",
      "0\n",
      "0\n",
      "0\n",
      "0\n",
      "0\n",
      "6069343\n"
     ]
    },
    {
     "data": {
      "text/plain": [
       "[3,\n",
       " 225,\n",
       " 1,\n",
       " 225,\n",
       " 6,\n",
       " 6,\n",
       " 1101,\n",
       " 1,\n",
       " 238,\n",
       " 225,\n",
       " 104,\n",
       " 0,\n",
       " 2,\n",
       " 218,\n",
       " 57,\n",
       " 224,\n",
       " 101,\n",
       " -3828,\n",
       " 224,\n",
       " 224,\n",
       " 4,\n",
       " 224,\n",
       " 102,\n",
       " 8,\n",
       " 223,\n",
       " 223,\n",
       " 1001,\n",
       " 224,\n",
       " 2,\n",
       " 224,\n",
       " 1,\n",
       " 223,\n",
       " 224,\n",
       " 223,\n",
       " 1102,\n",
       " 26,\n",
       " 25,\n",
       " 224,\n",
       " 1001,\n",
       " 224,\n",
       " -650,\n",
       " 224,\n",
       " 4,\n",
       " 224,\n",
       " 1002,\n",
       " 223,\n",
       " 8,\n",
       " 223,\n",
       " 101,\n",
       " 7,\n",
       " 224,\n",
       " 224,\n",
       " 1,\n",
       " 223,\n",
       " 224,\n",
       " 223,\n",
       " 1102,\n",
       " 44,\n",
       " 37,\n",
       " 225,\n",
       " 1102,\n",
       " 51,\n",
       " 26,\n",
       " 225,\n",
       " 1102,\n",
       " 70,\n",
       " 94,\n",
       " 225,\n",
       " 1002,\n",
       " 188,\n",
       " 7,\n",
       " 224,\n",
       " 1001,\n",
       " 224,\n",
       " -70,\n",
       " 224,\n",
       " 4,\n",
       " 224,\n",
       " 1002,\n",
       " 223,\n",
       " 8,\n",
       " 223,\n",
       " 1001,\n",
       " 224,\n",
       " 1,\n",
       " 224,\n",
       " 1,\n",
       " 223,\n",
       " 224,\n",
       " 223,\n",
       " 1101,\n",
       " 86,\n",
       " 70,\n",
       " 225,\n",
       " 1101,\n",
       " 80,\n",
       " 25,\n",
       " 224,\n",
       " 101,\n",
       " -105,\n",
       " 224,\n",
       " 224,\n",
       " 4,\n",
       " 224,\n",
       " 102,\n",
       " 8,\n",
       " 223,\n",
       " 223,\n",
       " 101,\n",
       " 1,\n",
       " 224,\n",
       " 224,\n",
       " 1,\n",
       " 224,\n",
       " 223,\n",
       " 223,\n",
       " 101,\n",
       " 6,\n",
       " 91,\n",
       " 224,\n",
       " 1001,\n",
       " 224,\n",
       " -92,\n",
       " 224,\n",
       " 4,\n",
       " 224,\n",
       " 102,\n",
       " 8,\n",
       " 223,\n",
       " 223,\n",
       " 101,\n",
       " 6,\n",
       " 224,\n",
       " 224,\n",
       " 1,\n",
       " 224,\n",
       " 223,\n",
       " 223,\n",
       " 1102,\n",
       " 61,\n",
       " 60,\n",
       " 225,\n",
       " 1001,\n",
       " 139,\n",
       " 81,\n",
       " 224,\n",
       " 101,\n",
       " -142,\n",
       " 224,\n",
       " 224,\n",
       " 4,\n",
       " 224,\n",
       " 102,\n",
       " 8,\n",
       " 223,\n",
       " 223,\n",
       " 101,\n",
       " 1,\n",
       " 224,\n",
       " 224,\n",
       " 1,\n",
       " 223,\n",
       " 224,\n",
       " 223,\n",
       " 102,\n",
       " 40,\n",
       " 65,\n",
       " 224,\n",
       " 1001,\n",
       " 224,\n",
       " -2800,\n",
       " 224,\n",
       " 4,\n",
       " 224,\n",
       " 1002,\n",
       " 223,\n",
       " 8,\n",
       " 223,\n",
       " 1001,\n",
       " 224,\n",
       " 3,\n",
       " 224,\n",
       " 1,\n",
       " 224,\n",
       " 223,\n",
       " 223,\n",
       " 1102,\n",
       " 72,\n",
       " 10,\n",
       " 225,\n",
       " 1101,\n",
       " 71,\n",
       " 21,\n",
       " 225,\n",
       " 1,\n",
       " 62,\n",
       " 192,\n",
       " 224,\n",
       " 1001,\n",
       " 224,\n",
       " -47,\n",
       " 224,\n",
       " 4,\n",
       " 224,\n",
       " 1002,\n",
       " 223,\n",
       " 8,\n",
       " 223,\n",
       " 101,\n",
       " 7,\n",
       " 224,\n",
       " 224,\n",
       " 1,\n",
       " 224,\n",
       " 223,\n",
       " 223,\n",
       " 1101,\n",
       " 76,\n",
       " 87,\n",
       " 225,\n",
       " 4,\n",
       " 223,\n",
       " 99,\n",
       " 6069343,\n",
       " 7,\n",
       " 163,\n",
       " 677,\n",
       " 0,\n",
       " 0,\n",
       " 0,\n",
       " 0,\n",
       " 0,\n",
       " 0,\n",
       " 0,\n",
       " 0,\n",
       " 0,\n",
       " 0,\n",
       " 0,\n",
       " 1105,\n",
       " 0,\n",
       " 99999,\n",
       " 1105,\n",
       " 227,\n",
       " 247,\n",
       " 1105,\n",
       " 1,\n",
       " 99999,\n",
       " 1005,\n",
       " 227,\n",
       " 99999,\n",
       " 1005,\n",
       " 0,\n",
       " 256,\n",
       " 1105,\n",
       " 1,\n",
       " 99999,\n",
       " 1106,\n",
       " 227,\n",
       " 99999,\n",
       " 1106,\n",
       " 0,\n",
       " 265,\n",
       " 1105,\n",
       " 1,\n",
       " 99999,\n",
       " 1006,\n",
       " 0,\n",
       " 99999,\n",
       " 1006,\n",
       " 227,\n",
       " 274,\n",
       " 1105,\n",
       " 1,\n",
       " 99999,\n",
       " 1105,\n",
       " 1,\n",
       " 280,\n",
       " 1105,\n",
       " 1,\n",
       " 99999,\n",
       " 1,\n",
       " 225,\n",
       " 225,\n",
       " 225,\n",
       " 1101,\n",
       " 294,\n",
       " 0,\n",
       " 0,\n",
       " 105,\n",
       " 1,\n",
       " 0,\n",
       " 1105,\n",
       " 1,\n",
       " 99999,\n",
       " 1106,\n",
       " 0,\n",
       " 300,\n",
       " 1105,\n",
       " 1,\n",
       " 99999,\n",
       " 1,\n",
       " 225,\n",
       " 225,\n",
       " 225,\n",
       " 1101,\n",
       " 314,\n",
       " 0,\n",
       " 0,\n",
       " 106,\n",
       " 0,\n",
       " 0,\n",
       " 1105,\n",
       " 1,\n",
       " 99999,\n",
       " 108,\n",
       " 226,\n",
       " 677,\n",
       " 224,\n",
       " 102,\n",
       " 2,\n",
       " 223,\n",
       " 223,\n",
       " 1005,\n",
       " 224,\n",
       " 329,\n",
       " 1001,\n",
       " 223,\n",
       " 1,\n",
       " 223,\n",
       " 1107,\n",
       " 677,\n",
       " 226,\n",
       " 224,\n",
       " 102,\n",
       " 2,\n",
       " 223,\n",
       " 223,\n",
       " 1006,\n",
       " 224,\n",
       " 344,\n",
       " 1001,\n",
       " 223,\n",
       " 1,\n",
       " 223,\n",
       " 7,\n",
       " 226,\n",
       " 677,\n",
       " 224,\n",
       " 1002,\n",
       " 223,\n",
       " 2,\n",
       " 223,\n",
       " 1005,\n",
       " 224,\n",
       " 359,\n",
       " 101,\n",
       " 1,\n",
       " 223,\n",
       " 223,\n",
       " 1007,\n",
       " 226,\n",
       " 226,\n",
       " 224,\n",
       " 102,\n",
       " 2,\n",
       " 223,\n",
       " 223,\n",
       " 1005,\n",
       " 224,\n",
       " 374,\n",
       " 101,\n",
       " 1,\n",
       " 223,\n",
       " 223,\n",
       " 108,\n",
       " 677,\n",
       " 677,\n",
       " 224,\n",
       " 102,\n",
       " 2,\n",
       " 223,\n",
       " 223,\n",
       " 1006,\n",
       " 224,\n",
       " 389,\n",
       " 1001,\n",
       " 223,\n",
       " 1,\n",
       " 223,\n",
       " 107,\n",
       " 677,\n",
       " 226,\n",
       " 224,\n",
       " 102,\n",
       " 2,\n",
       " 223,\n",
       " 223,\n",
       " 1006,\n",
       " 224,\n",
       " 404,\n",
       " 101,\n",
       " 1,\n",
       " 223,\n",
       " 223,\n",
       " 1108,\n",
       " 677,\n",
       " 226,\n",
       " 224,\n",
       " 102,\n",
       " 2,\n",
       " 223,\n",
       " 223,\n",
       " 1006,\n",
       " 224,\n",
       " 419,\n",
       " 1001,\n",
       " 223,\n",
       " 1,\n",
       " 223,\n",
       " 1107,\n",
       " 677,\n",
       " 677,\n",
       " 224,\n",
       " 1002,\n",
       " 223,\n",
       " 2,\n",
       " 223,\n",
       " 1006,\n",
       " 224,\n",
       " 434,\n",
       " 101,\n",
       " 1,\n",
       " 223,\n",
       " 223,\n",
       " 1007,\n",
       " 677,\n",
       " 677,\n",
       " 224,\n",
       " 102,\n",
       " 2,\n",
       " 223,\n",
       " 223,\n",
       " 1006,\n",
       " 224,\n",
       " 449,\n",
       " 1001,\n",
       " 223,\n",
       " 1,\n",
       " 223,\n",
       " 1108,\n",
       " 226,\n",
       " 677,\n",
       " 224,\n",
       " 1002,\n",
       " 223,\n",
       " 2,\n",
       " 223,\n",
       " 1006,\n",
       " 224,\n",
       " 464,\n",
       " 101,\n",
       " 1,\n",
       " 223,\n",
       " 223,\n",
       " 7,\n",
       " 677,\n",
       " 226,\n",
       " 224,\n",
       " 102,\n",
       " 2,\n",
       " 223,\n",
       " 223,\n",
       " 1006,\n",
       " 224,\n",
       " 479,\n",
       " 101,\n",
       " 1,\n",
       " 223,\n",
       " 223,\n",
       " 1008,\n",
       " 226,\n",
       " 226,\n",
       " 224,\n",
       " 102,\n",
       " 2,\n",
       " 223,\n",
       " 223,\n",
       " 1006,\n",
       " 224,\n",
       " 494,\n",
       " 101,\n",
       " 1,\n",
       " 223,\n",
       " 223,\n",
       " 1008,\n",
       " 226,\n",
       " 677,\n",
       " 224,\n",
       " 1002,\n",
       " 223,\n",
       " 2,\n",
       " 223,\n",
       " 1005,\n",
       " 224,\n",
       " 509,\n",
       " 1001,\n",
       " 223,\n",
       " 1,\n",
       " 223,\n",
       " 1007,\n",
       " 677,\n",
       " 226,\n",
       " 224,\n",
       " 102,\n",
       " 2,\n",
       " 223,\n",
       " 223,\n",
       " 1005,\n",
       " 224,\n",
       " 524,\n",
       " 1001,\n",
       " 223,\n",
       " 1,\n",
       " 223,\n",
       " 8,\n",
       " 226,\n",
       " 226,\n",
       " 224,\n",
       " 102,\n",
       " 2,\n",
       " 223,\n",
       " 223,\n",
       " 1006,\n",
       " 224,\n",
       " 539,\n",
       " 101,\n",
       " 1,\n",
       " 223,\n",
       " 223,\n",
       " 1108,\n",
       " 226,\n",
       " 226,\n",
       " 224,\n",
       " 1002,\n",
       " 223,\n",
       " 2,\n",
       " 223,\n",
       " 1006,\n",
       " 224,\n",
       " 554,\n",
       " 101,\n",
       " 1,\n",
       " 223,\n",
       " 223,\n",
       " 107,\n",
       " 226,\n",
       " 226,\n",
       " 224,\n",
       " 1002,\n",
       " 223,\n",
       " 2,\n",
       " 223,\n",
       " 1005,\n",
       " 224,\n",
       " 569,\n",
       " 1001,\n",
       " 223,\n",
       " 1,\n",
       " 223,\n",
       " 7,\n",
       " 226,\n",
       " 226,\n",
       " 224,\n",
       " 102,\n",
       " 2,\n",
       " 223,\n",
       " 223,\n",
       " 1005,\n",
       " 224,\n",
       " 584,\n",
       " 101,\n",
       " 1,\n",
       " 223,\n",
       " 223,\n",
       " 1008,\n",
       " 677,\n",
       " 677,\n",
       " 224,\n",
       " 1002,\n",
       " 223,\n",
       " 2,\n",
       " 223,\n",
       " 1006,\n",
       " 224,\n",
       " 599,\n",
       " 1001,\n",
       " 223,\n",
       " 1,\n",
       " 223,\n",
       " 8,\n",
       " 226,\n",
       " 677,\n",
       " 224,\n",
       " 1002,\n",
       " 223,\n",
       " 2,\n",
       " 223,\n",
       " 1006,\n",
       " 224,\n",
       " 614,\n",
       " 1001,\n",
       " 223,\n",
       " 1,\n",
       " 223,\n",
       " 108,\n",
       " 226,\n",
       " 226,\n",
       " 224,\n",
       " 1002,\n",
       " 223,\n",
       " 2,\n",
       " 223,\n",
       " 1006,\n",
       " 224,\n",
       " 629,\n",
       " 101,\n",
       " 1,\n",
       " 223,\n",
       " 223,\n",
       " 107,\n",
       " 677,\n",
       " 677,\n",
       " 224,\n",
       " 102,\n",
       " 2,\n",
       " 223,\n",
       " 223,\n",
       " 1005,\n",
       " 224,\n",
       " 644,\n",
       " 1001,\n",
       " 223,\n",
       " 1,\n",
       " 223,\n",
       " 8,\n",
       " 677,\n",
       " 226,\n",
       " 224,\n",
       " 1002,\n",
       " 223,\n",
       " 2,\n",
       " 223,\n",
       " 1005,\n",
       " 224,\n",
       " 659,\n",
       " 1001,\n",
       " 223,\n",
       " 1,\n",
       " 223,\n",
       " 1107,\n",
       " 226,\n",
       " 677,\n",
       " 224,\n",
       " 102,\n",
       " 2,\n",
       " 223,\n",
       " 223,\n",
       " 1005,\n",
       " 224,\n",
       " 674,\n",
       " 1001,\n",
       " 223,\n",
       " 1,\n",
       " 223,\n",
       " 4,\n",
       " 223,\n",
       " 99,\n",
       " 226]"
      ]
     },
     "execution_count": 27,
     "metadata": {},
     "output_type": "execute_result"
    }
   ],
   "source": [
    "parse_code(source.copy())"
   ]
  },
  {
   "cell_type": "markdown",
   "metadata": {
    "ein.tags": "worksheet-0",
    "slideshow": {
     "slide_type": "-"
    }
   },
   "source": [
    "## Day 6"
   ]
  },
  {
   "cell_type": "code",
   "execution_count": 24,
   "metadata": {
    "autoscroll": false,
    "ein.hycell": false,
    "ein.tags": "worksheet-0",
    "slideshow": {
     "slide_type": "-"
    }
   },
   "outputs": [],
   "source": [
    "source = Input(\"06\", mapt=str)"
   ]
  },
  {
   "cell_type": "code",
   "execution_count": 96,
   "metadata": {
    "autoscroll": false,
    "ein.hycell": false,
    "ein.tags": "worksheet-0",
    "slideshow": {
     "slide_type": "-"
    }
   },
   "outputs": [],
   "source": [
    "def read_source(source):\n",
    "    graph = {}\n",
    "    rgraph = {}\n",
    "    for line in source:\n",
    "        src, dst = line.split(\")\")\n",
    "        rgraph[dst] = src\n",
    "        if src in graph:\n",
    "            graph[src].append(dst)\n",
    "        else:\n",
    "            graph[src] = [dst]\n",
    "    return graph, rgraph"
   ]
  },
  {
   "cell_type": "code",
   "execution_count": 78,
   "metadata": {
    "autoscroll": false,
    "ein.hycell": false,
    "ein.tags": "worksheet-0",
    "slideshow": {
     "slide_type": "-"
    }
   },
   "outputs": [],
   "source": [
    "test_input = \"\"\"\n",
    "COM)B\n",
    "B)C\n",
    "C)D\n",
    "D)E\n",
    "E)F\n",
    "B)G\n",
    "G)H\n",
    "D)I\n",
    "E)J\n",
    "J)K\n",
    "K)L\n",
    "K)YOU\n",
    "I)SAN\n",
    "\"\"\".split()\n",
    "_, rgraph = read_source(test_input)"
   ]
  },
  {
   "cell_type": "code",
   "execution_count": 73,
   "metadata": {
    "autoscroll": false,
    "ein.hycell": false,
    "ein.tags": "worksheet-0",
    "slideshow": {
     "slide_type": "-"
    }
   },
   "outputs": [],
   "source": [
    "def count_orbits(rgraph, identifier):\n",
    "    if identifier not in rgraph:\n",
    "        return 0\n",
    "    else:\n",
    "        return 1 + count_orbits(rgraph, rgraph[identifier])"
   ]
  },
  {
   "cell_type": "code",
   "execution_count": 74,
   "metadata": {
    "autoscroll": false,
    "ein.hycell": false,
    "ein.tags": "worksheet-0",
    "slideshow": {
     "slide_type": "-"
    }
   },
   "outputs": [
    {
     "data": {
      "text/plain": [
       "54"
      ]
     },
     "execution_count": 74,
     "metadata": {},
     "output_type": "execute_result"
    }
   ],
   "source": [
    "sum([count_orbits(rgraph, obj) for obj in rgraph.keys()])"
   ]
  },
  {
   "cell_type": "code",
   "execution_count": 92,
   "metadata": {
    "autoscroll": false,
    "ein.hycell": false,
    "ein.tags": "worksheet-0",
    "slideshow": {
     "slide_type": "-"
    }
   },
   "outputs": [],
   "source": [
    "graph, rgraph = read_source(source)"
   ]
  },
  {
   "cell_type": "code",
   "execution_count": 93,
   "metadata": {
    "autoscroll": false,
    "ein.hycell": false,
    "ein.tags": "worksheet-0",
    "slideshow": {
     "slide_type": "-"
    }
   },
   "outputs": [
    {
     "data": {
      "text/plain": [
       "245089"
      ]
     },
     "execution_count": 93,
     "metadata": {},
     "output_type": "execute_result"
    }
   ],
   "source": [
    "sum([count_orbits(rgraph, obj) for obj in rgraph.keys()])"
   ]
  },
  {
   "cell_type": "code",
   "execution_count": 94,
   "metadata": {
    "autoscroll": false,
    "ein.hycell": false,
    "ein.tags": "worksheet-0",
    "slideshow": {
     "slide_type": "-"
    }
   },
   "outputs": [],
   "source": [
    "def path_len(a, b, rgraph):\n",
    "    def path(src, rgraph):\n",
    "        if src == \"COM\":\n",
    "            return [\"COM\"]\n",
    "        return [src] + path(rgraph[src], rgraph)\n",
    "    frst_path = path(a, rgraph)\n",
    "    secd_path = path(b, rgraph)\n",
    "    # first common ancestor\n",
    "    ancestor = None\n",
    "    for obj in frst_path:\n",
    "        if obj in secd_path:\n",
    "            ancestor = obj\n",
    "            break\n",
    "    return frst_path.index(ancestor) + secd_path.index(ancestor) - 2"
   ]
  },
  {
   "cell_type": "code",
   "execution_count": 95,
   "metadata": {
    "autoscroll": false,
    "ein.hycell": false,
    "ein.tags": "worksheet-0",
    "slideshow": {
     "slide_type": "-"
    }
   },
   "outputs": [
    {
     "data": {
      "text/plain": [
       "511"
      ]
     },
     "execution_count": 95,
     "metadata": {},
     "output_type": "execute_result"
    }
   ],
   "source": [
    "path_len(\"YOU\", \"SAN\", rgraph)"
   ]
  }
 ],
 "metadata": {
  "kernelspec": {
   "display_name": "Python 3",
   "language": "python",
   "name": "python3"
  },
  "language_info": {
   "codemirror_mode": {
    "name": "ipython",
    "version": 3
   },
   "file_extension": ".py",
   "mimetype": "text/x-python",
   "name": "python",
   "nbconvert_exporter": "python",
   "pygments_lexer": "ipython3",
   "version": "3.8.0"
  },
  "name": "Advent2019.ipynb"
 },
 "nbformat": 4,
 "nbformat_minor": 2
}
