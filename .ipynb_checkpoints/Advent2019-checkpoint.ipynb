{
 "cells": [
  {
   "cell_type": "markdown",
   "metadata": {
    "ein.tags": "worksheet-0",
    "slideshow": {
     "slide_type": "-"
    }
   },
   "source": [
    "# AoC 2019"
   ]
  },
  {
   "cell_type": "code",
   "execution_count": 1,
   "metadata": {
    "autoscroll": false,
    "collapsed": false,
    "ein.hycell": false,
    "ein.tags": "worksheet-0",
    "slideshow": {
     "slide_type": "-"
    }
   },
   "outputs": [],
   "source": [
    "import ipdb\n",
    "import numpy as np\n",
    "import matplotlib.pyplot as plt\n",
    "from itertools import product\n",
    "\n",
    "fid = lambda x: x\n",
    "\n",
    "def Input(filename, split = str.split, mapt = int):\n",
    "    with open(\"inputs/{}.input\".format(filename)) as fo:\n",
    "        return list(map(mapt, split(fo.read())))\n",
    "    \n",
    "def split(char):\n",
    "    return lambda x: x.split(char)"
   ]
  },
  {
   "cell_type": "code",
   "execution_count": 2,
   "metadata": {
    "autoscroll": false,
    "collapsed": false,
    "ein.hycell": false,
    "ein.tags": "worksheet-0",
    "slideshow": {
     "slide_type": "-"
    }
   },
   "outputs": [],
   "source": [
    "class Point:\n",
    "    def __init__(self,x,y):\n",
    "        self.x = x\n",
    "        self.y = y\n",
    "        self.t = (x, y)\n",
    "        self.m = abs(x) + abs(y)\n",
    "\n",
    "    def __add__(self, c):\n",
    "        return Point(self.x + c.x, self.y + c.y)\n",
    "\n",
    "    def __sub__(self, c):\n",
    "        return Point(self.x - c.x, self.y - c.y)\n",
    "\n",
    "    def __eq__(self,c):\n",
    "        return self.x == c.x and self.y == c.y\n",
    "    \n",
    "    def __iter__(self):\n",
    "        return self.t.__iter__()\n",
    "    \n",
    "    def __repr__(self):\n",
    "        return \"Point\" + self.t.__repr__()\n",
    "    \n",
    "    def __hash__(self):\n",
    "        return hash(self.t)"
   ]
  },
  {
   "cell_type": "markdown",
   "metadata": {
    "ein.tags": "worksheet-0",
    "slideshow": {
     "slide_type": "-"
    }
   },
   "source": [
    "## Day 1"
   ]
  },
  {
   "cell_type": "code",
   "execution_count": 3,
   "metadata": {
    "autoscroll": false,
    "collapsed": false,
    "ein.hycell": false,
    "ein.tags": "worksheet-0",
    "slideshow": {
     "slide_type": "-"
    }
   },
   "outputs": [
    {
     "ename": "FileNotFoundError",
     "evalue": "[Errno 2] No such file or directory: 'inputs/01.input'",
     "output_type": "error",
     "traceback": [
      "\u001b[0;31m\u001b[0m",
      "\u001b[0;31mFileNotFoundError\u001b[0mTraceback (most recent call last)",
      "\u001b[0;32m<ipython-input-3-7fb4861a53ac>\u001b[0m in \u001b[0;36m<module>\u001b[0;34m\u001b[0m\n\u001b[0;32m----> 1\u001b[0;31m \u001b[0msource\u001b[0m \u001b[0;34m=\u001b[0m \u001b[0mInput\u001b[0m\u001b[0;34m(\u001b[0m\u001b[0;34m\"01\"\u001b[0m\u001b[0;34m)\u001b[0m\u001b[0;34m\u001b[0m\u001b[0;34m\u001b[0m\u001b[0m\n\u001b[0m\u001b[1;32m      2\u001b[0m \u001b[0msum\u001b[0m\u001b[0;34m(\u001b[0m\u001b[0;34m[\u001b[0m\u001b[0mint\u001b[0m\u001b[0;34m(\u001b[0m\u001b[0mn\u001b[0m\u001b[0;34m/\u001b[0m\u001b[0;36m3\u001b[0m\u001b[0;34m)\u001b[0m \u001b[0;34m-\u001b[0m \u001b[0;36m2\u001b[0m \u001b[0;32mfor\u001b[0m \u001b[0mn\u001b[0m \u001b[0;32min\u001b[0m \u001b[0msource\u001b[0m\u001b[0;34m]\u001b[0m\u001b[0;34m)\u001b[0m\u001b[0;34m\u001b[0m\u001b[0;34m\u001b[0m\u001b[0m\n",
      "\u001b[0;32m<ipython-input-1-dc1426df0618>\u001b[0m in \u001b[0;36mInput\u001b[0;34m(filename, split, mapt)\u001b[0m\n\u001b[1;32m      7\u001b[0m \u001b[0;34m\u001b[0m\u001b[0m\n\u001b[1;32m      8\u001b[0m \u001b[0;32mdef\u001b[0m \u001b[0mInput\u001b[0m\u001b[0;34m(\u001b[0m\u001b[0mfilename\u001b[0m\u001b[0;34m,\u001b[0m \u001b[0msplit\u001b[0m \u001b[0;34m=\u001b[0m \u001b[0mstr\u001b[0m\u001b[0;34m.\u001b[0m\u001b[0msplit\u001b[0m\u001b[0;34m,\u001b[0m \u001b[0mmapt\u001b[0m \u001b[0;34m=\u001b[0m \u001b[0mint\u001b[0m\u001b[0;34m)\u001b[0m\u001b[0;34m:\u001b[0m\u001b[0;34m\u001b[0m\u001b[0;34m\u001b[0m\u001b[0m\n\u001b[0;32m----> 9\u001b[0;31m     \u001b[0;32mwith\u001b[0m \u001b[0mopen\u001b[0m\u001b[0;34m(\u001b[0m\u001b[0;34m\"inputs/{}.input\"\u001b[0m\u001b[0;34m.\u001b[0m\u001b[0mformat\u001b[0m\u001b[0;34m(\u001b[0m\u001b[0mfilename\u001b[0m\u001b[0;34m)\u001b[0m\u001b[0;34m)\u001b[0m \u001b[0;32mas\u001b[0m \u001b[0mfo\u001b[0m\u001b[0;34m:\u001b[0m\u001b[0;34m\u001b[0m\u001b[0;34m\u001b[0m\u001b[0m\n\u001b[0m\u001b[1;32m     10\u001b[0m         \u001b[0;32mreturn\u001b[0m \u001b[0mlist\u001b[0m\u001b[0;34m(\u001b[0m\u001b[0mmap\u001b[0m\u001b[0;34m(\u001b[0m\u001b[0mmapt\u001b[0m\u001b[0;34m,\u001b[0m \u001b[0msplit\u001b[0m\u001b[0;34m(\u001b[0m\u001b[0mfo\u001b[0m\u001b[0;34m.\u001b[0m\u001b[0mread\u001b[0m\u001b[0;34m(\u001b[0m\u001b[0;34m)\u001b[0m\u001b[0;34m)\u001b[0m\u001b[0;34m)\u001b[0m\u001b[0;34m)\u001b[0m\u001b[0;34m\u001b[0m\u001b[0;34m\u001b[0m\u001b[0m\n\u001b[1;32m     11\u001b[0m \u001b[0;34m\u001b[0m\u001b[0m\n",
      "\u001b[0;31mFileNotFoundError\u001b[0m: [Errno 2] No such file or directory: 'inputs/01.input'"
     ]
    }
   ],
   "source": [
    "source = Input(\"01\")\n",
    "sum([int(n/3) - 2 for n in source])"
   ]
  },
  {
   "cell_type": "code",
   "execution_count": 4,
   "metadata": {
    "autoscroll": false,
    "collapsed": false,
    "ein.hycell": false,
    "ein.tags": "worksheet-0",
    "slideshow": {
     "slide_type": "-"
    }
   },
   "outputs": [],
   "source": [
    "def calc_fuel(value):\n",
    "    fuel = int(value / 3) - 2\n",
    "    if fuel <= 0:\n",
    "        return 0\n",
    "    return fuel + calc_fuel(fuel)"
   ]
  },
  {
   "cell_type": "code",
   "execution_count": 5,
   "metadata": {
    "autoscroll": false,
    "collapsed": false,
    "ein.hycell": false,
    "ein.tags": "worksheet-0",
    "slideshow": {
     "slide_type": "-"
    }
   },
   "outputs": [
    {
     "data": {
      "text/plain": [
       "4822435"
      ]
     },
     "execution_count": 5,
     "metadata": {},
     "output_type": "execute_result"
    }
   ],
   "source": [
    "sum(map(calc_fuel, source))"
   ]
  },
  {
   "cell_type": "markdown",
   "metadata": {
    "ein.tags": "worksheet-0",
    "slideshow": {
     "slide_type": "-"
    }
   },
   "source": [
    "## Day 2"
   ]
  },
  {
   "cell_type": "code",
   "execution_count": 6,
   "metadata": {
    "autoscroll": false,
    "collapsed": false,
    "ein.hycell": false,
    "ein.tags": "worksheet-0",
    "slideshow": {
     "slide_type": "-"
    }
   },
   "outputs": [],
   "source": [
    "source = Input(\"02\", split=split(\",\"))"
   ]
  },
  {
   "cell_type": "code",
   "execution_count": 7,
   "metadata": {
    "autoscroll": false,
    "collapsed": false,
    "ein.hycell": false,
    "ein.tags": "worksheet-0",
    "slideshow": {
     "slide_type": "-"
    }
   },
   "outputs": [],
   "source": [
    "def parse_source(source):\n",
    "    return list(map(int, source.split(\",\")))\n",
    "\n",
    "def parse_code(source):\n",
    "    cursor = 0\n",
    "    opcode = 0\n",
    "    while True:\n",
    "        opcode = source[cursor]\n",
    "        if opcode == 99:\n",
    "            break\n",
    "        p1, p2, pr = source[cursor+1:cursor+4]\n",
    "        if opcode == 1:\n",
    "            source[pr] = source[p1] + source[p2]\n",
    "        elif opcode == 2:\n",
    "            source[pr] = source[p1] * source[p2]\n",
    "        cursor += 4\n",
    "    return source\n",
    "\n",
    "def print_solution(source):\n",
    "    print(\",\".join(map(str, parse_code(parse_source(source)))))"
   ]
  },
  {
   "cell_type": "code",
   "execution_count": 8,
   "metadata": {
    "autoscroll": false,
    "collapsed": false,
    "ein.hycell": false,
    "ein.tags": "worksheet-0",
    "slideshow": {
     "slide_type": "-"
    }
   },
   "outputs": [
    {
     "name": "stdout",
     "output_type": "stream",
     "text": [
      "3500,9,10,70,2,3,11,0,99,30,40,50\n",
      "30,1,1,4,2,5,6,0,99\n"
     ]
    }
   ],
   "source": [
    "print_solution(\"1,9,10,3,2,3,11,0,99,30,40,50\")\n",
    "print_solution(\"1,1,1,4,99,5,6,0,99\")"
   ]
  },
  {
   "cell_type": "code",
   "execution_count": 9,
   "metadata": {
    "autoscroll": false,
    "collapsed": false,
    "ein.hycell": false,
    "ein.tags": "worksheet-0",
    "slideshow": {
     "slide_type": "-"
    }
   },
   "outputs": [],
   "source": [
    "new_source = source.copy()\n",
    "new_source[1] = 12\n",
    "new_source[2] = 2"
   ]
  },
  {
   "cell_type": "code",
   "execution_count": 10,
   "metadata": {
    "autoscroll": false,
    "collapsed": false,
    "ein.hycell": false,
    "ein.tags": "worksheet-0",
    "slideshow": {
     "slide_type": "-"
    }
   },
   "outputs": [
    {
     "name": "stdout",
     "output_type": "stream",
     "text": [
      "4945026\n"
     ]
    }
   ],
   "source": [
    "print(parse_code(new_source.copy())[0])"
   ]
  },
  {
   "cell_type": "code",
   "execution_count": 11,
   "metadata": {
    "autoscroll": false,
    "collapsed": false,
    "ein.hycell": false,
    "ein.tags": "worksheet-0",
    "slideshow": {
     "slide_type": "-"
    }
   },
   "outputs": [],
   "source": [
    "def try_noun_verb(source):\n",
    "    for noun, verb in product(range(100), range(100)):\n",
    "        new_source = source.copy()\n",
    "        new_source[1] = noun\n",
    "        new_source[2] = verb\n",
    "        if parse_code(new_source.copy())[0] == 19690720:\n",
    "            print(noun, verb)\n",
    "            break"
   ]
  },
  {
   "cell_type": "code",
   "execution_count": 12,
   "metadata": {
    "autoscroll": false,
    "collapsed": false,
    "ein.hycell": false,
    "ein.tags": "worksheet-0",
    "slideshow": {
     "slide_type": "-"
    }
   },
   "outputs": [
    {
     "name": "stdout",
     "output_type": "stream",
     "text": [
      "52 96\n"
     ]
    }
   ],
   "source": [
    "try_noun_verb(source)"
   ]
  },
  {
   "cell_type": "code",
   "execution_count": 13,
   "metadata": {
    "autoscroll": false,
    "collapsed": false,
    "ein.hycell": false,
    "ein.tags": "worksheet-0",
    "slideshow": {
     "slide_type": "-"
    }
   },
   "outputs": [
    {
     "data": {
      "text/plain": [
       "5296"
      ]
     },
     "execution_count": 13,
     "metadata": {},
     "output_type": "execute_result"
    }
   ],
   "source": [
    "100 * 52 + 96"
   ]
  },
  {
   "cell_type": "markdown",
   "metadata": {
    "ein.tags": "worksheet-0",
    "slideshow": {
     "slide_type": "-"
    }
   },
   "source": [
    "## Day 3"
   ]
  },
  {
   "cell_type": "code",
   "execution_count": 14,
   "metadata": {
    "autoscroll": false,
    "collapsed": false,
    "ein.hycell": false,
    "ein.tags": "worksheet-0",
    "slideshow": {
     "slide_type": "-"
    }
   },
   "outputs": [],
   "source": [
    "source = Input(\"03\", mapt=fid)"
   ]
  },
  {
   "cell_type": "code",
   "execution_count": 15,
   "metadata": {
    "autoscroll": false,
    "collapsed": false,
    "ein.hycell": false,
    "ein.tags": "worksheet-0",
    "slideshow": {
     "slide_type": "-"
    }
   },
   "outputs": [],
   "source": [
    "directions = {\n",
    "    \"R\": Point(1, 0),\n",
    "    \"L\": Point(-1, 0),\n",
    "    \"U\": Point(0, 1),\n",
    "    \"D\": Point(0, -1)\n",
    "}"
   ]
  },
  {
   "cell_type": "code",
   "execution_count": 16,
   "metadata": {
    "autoscroll": false,
    "collapsed": false,
    "ein.hycell": false,
    "ein.tags": "worksheet-0",
    "slideshow": {
     "slide_type": "-"
    }
   },
   "outputs": [],
   "source": [
    "crossed = {}\n",
    "intersections = {}\n",
    "coord = Point(0, 0)\n",
    "steps = 0\n",
    "for instruction in source[0].split(\",\"):\n",
    "    d, l = instruction[0], int(instruction[1:])\n",
    "    for _ in range(l):\n",
    "        steps += 1\n",
    "        coord += directions[d]\n",
    "        if coord not in crossed:\n",
    "            crossed[coord] = steps\n",
    "\n",
    "steps = 0\n",
    "coord = Point(0, 0)\n",
    "for instruction in source[1].split(\",\"):\n",
    "    d, l = instruction[0], int(instruction[1:])\n",
    "    for _ in range(l):\n",
    "        steps += 1\n",
    "        coord += directions[d]\n",
    "        if coord in crossed and coord not in intersections:\n",
    "            intersections[coord] = crossed[coord] + steps\n",
    "        elif coord in crossed and coord in intersections:\n",
    "            intersections[coord] = min(intersections[coord], crossed[coord] + steps)"
   ]
  },
  {
   "cell_type": "markdown",
   "metadata": {
    "ein.tags": "worksheet-0",
    "slideshow": {
     "slide_type": "-"
    }
   },
   "source": [
    "## Day 4"
   ]
  },
  {
   "cell_type": "code",
   "execution_count": 17,
   "metadata": {
    "autoscroll": false,
    "collapsed": false,
    "ein.hycell": false,
    "ein.tags": "worksheet-0",
    "slideshow": {
     "slide_type": "-"
    }
   },
   "outputs": [],
   "source": [
    "def check_number(n):\n",
    "    digits = tuple(map(int,list(str(n))))\n",
    "    adjacent = False\n",
    "    if digits[0] == digits[1] and digits[0] != digits[2]:\n",
    "        adjacent = True\n",
    "    if digits[4] == digits[5] and digits[4] != digits[3]:\n",
    "        adjacent = True\n",
    "    for i in [1,2,3]:\n",
    "        if digits[i] == digits[i + 1] and digits[i] != digits[i + 2] and digits[i] != digits[i - 1]:\n",
    "            adjacent = True\n",
    "    for i in range(5):\n",
    "        if digits[i] > digits[i + 1]:\n",
    "            return False\n",
    "    return adjacent"
   ]
  },
  {
   "cell_type": "code",
   "execution_count": 18,
   "metadata": {
    "autoscroll": false,
    "collapsed": false,
    "ein.hycell": false,
    "ein.tags": "worksheet-0",
    "slideshow": {
     "slide_type": "-"
    }
   },
   "outputs": [
    {
     "data": {
      "text/plain": [
       "1253"
      ]
     },
     "execution_count": 18,
     "metadata": {},
     "output_type": "execute_result"
    }
   ],
   "source": [
    "len(list(filter(check_number, range(138307, 654504))))"
   ]
  },
  {
   "cell_type": "markdown",
   "metadata": {
    "ein.tags": "worksheet-0",
    "slideshow": {
     "slide_type": "-"
    }
   },
   "source": [
    "## Day 5"
   ]
  },
  {
   "cell_type": "code",
   "execution_count": 19,
   "metadata": {
    "autoscroll": false,
    "collapsed": false,
    "ein.hycell": false,
    "ein.tags": "worksheet-0",
    "slideshow": {
     "slide_type": "-"
    }
   },
   "outputs": [],
   "source": [
    "source = Input(\"05\", split=split(\",\"))"
   ]
  },
  {
   "cell_type": "code",
   "execution_count": 20,
   "metadata": {
    "autoscroll": false,
    "collapsed": false,
    "ein.hycell": false,
    "ein.tags": "worksheet-0",
    "slideshow": {
     "slide_type": "-"
    }
   },
   "outputs": [],
   "source": [
    "def parse_source(source):\n",
    "    return list(map(int, source.split(\",\")))\n",
    "\n",
    "    \n",
    "def parse_line(line, source):\n",
    "    i = 100\n",
    "    opcode = line[0]\n",
    "    for p in line[1:]:\n",
    "        if int(opcode / i) % 10:\n",
    "            yield p\n",
    "        else:\n",
    "            yield source[p]\n",
    "        i *= 10\n",
    "   \n",
    "def parse_code(source):\n",
    "    cursor = 0\n",
    "    opcode = 0\n",
    "    i = 0\n",
    "    while True:\n",
    "        i += 1\n",
    "        opcode = source[cursor] % 100\n",
    "        if opcode == 99:\n",
    "            break\n",
    "        elif opcode == 1:\n",
    "            p1, p2 = parse_line(source[cursor:cursor+3], source)\n",
    "            p3 = source[cursor + 3]\n",
    "            source[p3] = p1 + p2\n",
    "            cursor += 4\n",
    "        elif opcode == 2:\n",
    "            p1, p2 = parse_line(source[cursor:cursor+3], source)\n",
    "            p3 = source[cursor + 3]\n",
    "            source[p3] = p1 * p2\n",
    "            cursor += 4\n",
    "        elif opcode == 3:\n",
    "            p1 = source[cursor + 1]\n",
    "            source[p1] = int(input())\n",
    "            cursor += 2\n",
    "        elif opcode == 4:\n",
    "            p1, = parse_line(source[cursor: cursor+2], source)\n",
    "            print(p1)\n",
    "            cursor += 2\n",
    "        elif opcode == 5:\n",
    "            p1, p2 = parse_line(source[cursor:cursor+3], source)\n",
    "            if p1 != 0:\n",
    "                cursor = p2\n",
    "            else:\n",
    "                cursor += 3\n",
    "        elif opcode == 6:\n",
    "            p1, p2 = parse_line(source[cursor:cursor+3], source)\n",
    "            if p1 == 0:\n",
    "                cursor = p2\n",
    "            else:\n",
    "                cursor += 3\n",
    "        elif opcode == 7:\n",
    "            p1, p2 = parse_line(source[cursor:cursor+3], source)\n",
    "            p3 = source[cursor + 3]\n",
    "            if p1 < p2:\n",
    "                source[p3] = 1\n",
    "            else:\n",
    "                source[p3] = 0\n",
    "            cursor += 4\n",
    "        elif opcode == 8:\n",
    "            p1, p2 = parse_line(source[cursor:cursor+3], source)\n",
    "            p3 = source[cursor + 3]\n",
    "            if p1 == p2:\n",
    "                source[p3] = 1\n",
    "            else:\n",
    "                source[p3] = 0\n",
    "            cursor += 4\n",
    "            \n",
    "    return source\n",
    "\n",
    "def print_solution(source):\n",
    "    print(\",\".join(map(str, parse_code(parse_source(source)))))"
   ]
  },
  {
   "cell_type": "code",
   "execution_count": 22,
   "metadata": {
    "autoscroll": false,
    "collapsed": false,
    "ein.hycell": false,
    "ein.tags": "worksheet-0",
    "slideshow": {
     "slide_type": "-"
    }
   },
   "outputs": [],
   "source": [
    "# parse_code(source.copy())"
   ]
  },
  {
   "cell_type": "markdown",
   "metadata": {
    "ein.tags": "worksheet-0",
    "slideshow": {
     "slide_type": "-"
    }
   },
   "source": [
    "## Day 6"
   ]
  },
  {
   "cell_type": "code",
   "execution_count": 24,
   "metadata": {
    "autoscroll": false,
    "collapsed": false,
    "ein.hycell": false,
    "ein.tags": "worksheet-0",
    "slideshow": {
     "slide_type": "-"
    }
   },
   "outputs": [],
   "source": [
    "source = Input(\"06\", mapt=str)"
   ]
  },
  {
   "cell_type": "code",
   "execution_count": 96,
   "metadata": {
    "autoscroll": false,
    "collapsed": false,
    "ein.hycell": false,
    "ein.tags": "worksheet-0",
    "slideshow": {
     "slide_type": "-"
    }
   },
   "outputs": [],
   "source": [
    "def read_source(source):\n",
    "    graph = {}\n",
    "    rgraph = {}\n",
    "    for line in source:\n",
    "        src, dst = line.split(\")\")\n",
    "        rgraph[dst] = src\n",
    "        if src in graph:\n",
    "            graph[src].append(dst)\n",
    "        else:\n",
    "            graph[src] = [dst]\n",
    "    return graph, rgraph"
   ]
  },
  {
   "cell_type": "code",
   "execution_count": 78,
   "metadata": {
    "autoscroll": false,
    "collapsed": false,
    "ein.hycell": false,
    "ein.tags": "worksheet-0",
    "slideshow": {
     "slide_type": "-"
    }
   },
   "outputs": [],
   "source": [
    "test_input = \"\"\"\n",
    "COM)B\n",
    "B)C\n",
    "C)D\n",
    "D)E\n",
    "E)F\n",
    "B)G\n",
    "G)H\n",
    "D)I\n",
    "E)J\n",
    "J)K\n",
    "K)L\n",
    "K)YOU\n",
    "I)SAN\n",
    "\"\"\".split()\n",
    "_, rgraph = read_source(test_input)"
   ]
  },
  {
   "cell_type": "code",
   "execution_count": 73,
   "metadata": {
    "autoscroll": false,
    "collapsed": false,
    "ein.hycell": false,
    "ein.tags": "worksheet-0",
    "slideshow": {
     "slide_type": "-"
    }
   },
   "outputs": [],
   "source": [
    "def count_orbits(rgraph, identifier):\n",
    "    if identifier not in rgraph:\n",
    "        return 0\n",
    "    else:\n",
    "        return 1 + count_orbits(rgraph, rgraph[identifier])"
   ]
  },
  {
   "cell_type": "code",
   "execution_count": 74,
   "metadata": {
    "autoscroll": false,
    "collapsed": false,
    "ein.hycell": false,
    "ein.tags": "worksheet-0",
    "slideshow": {
     "slide_type": "-"
    }
   },
   "outputs": [
    {
     "data": {
      "text/plain": [
       "54"
      ]
     },
     "execution_count": 74,
     "metadata": {},
     "output_type": "execute_result"
    }
   ],
   "source": [
    "sum([count_orbits(rgraph, obj) for obj in rgraph.keys()])"
   ]
  },
  {
   "cell_type": "code",
   "execution_count": 92,
   "metadata": {
    "autoscroll": false,
    "collapsed": false,
    "ein.hycell": false,
    "ein.tags": "worksheet-0",
    "slideshow": {
     "slide_type": "-"
    }
   },
   "outputs": [],
   "source": [
    "graph, rgraph = read_source(source)"
   ]
  },
  {
   "cell_type": "code",
   "execution_count": 93,
   "metadata": {
    "autoscroll": false,
    "collapsed": false,
    "ein.hycell": false,
    "ein.tags": "worksheet-0",
    "slideshow": {
     "slide_type": "-"
    }
   },
   "outputs": [
    {
     "data": {
      "text/plain": [
       "245089"
      ]
     },
     "execution_count": 93,
     "metadata": {},
     "output_type": "execute_result"
    }
   ],
   "source": [
    "sum([count_orbits(rgraph, obj) for obj in rgraph.keys()])"
   ]
  },
  {
   "cell_type": "code",
   "execution_count": 94,
   "metadata": {
    "autoscroll": false,
    "collapsed": false,
    "ein.hycell": false,
    "ein.tags": "worksheet-0",
    "slideshow": {
     "slide_type": "-"
    }
   },
   "outputs": [],
   "source": [
    "def path_len(a, b, rgraph):\n",
    "    def path(src, rgraph):\n",
    "        if src == \"COM\":\n",
    "            return [\"COM\"]\n",
    "        return [src] + path(rgraph[src], rgraph)\n",
    "    frst_path = path(a, rgraph)\n",
    "    secd_path = path(b, rgraph)\n",
    "    # first common ancestor\n",
    "    ancestor = None\n",
    "    for obj in frst_path:\n",
    "        if obj in secd_path:\n",
    "            ancestor = obj\n",
    "            break\n",
    "    return frst_path.index(ancestor) + secd_path.index(ancestor) - 2"
   ]
  },
  {
   "cell_type": "code",
   "execution_count": 95,
   "metadata": {
    "autoscroll": false,
    "collapsed": false,
    "ein.hycell": false,
    "ein.tags": "worksheet-0",
    "slideshow": {
     "slide_type": "-"
    }
   },
   "outputs": [
    {
     "data": {
      "text/plain": [
       "511"
      ]
     },
     "execution_count": 95,
     "metadata": {},
     "output_type": "execute_result"
    }
   ],
   "source": [
    "path_len(\"YOU\", \"SAN\", rgraph)"
   ]
  }
 ],
 "metadata": {
  "kernelspec": {
   "argv": [
    "python",
    "-m",
    "ipykernel_launcher",
    "-f",
    "{connection_file}"
   ],
   "display_name": "Python 3",
   "env": null,
   "interrupt_mode": "signal",
   "language": "python",
   "metadata": null,
   "name": "python3"
  },
  "language_info": {
   "codemirror_mode": {
    "name": "ipython",
    "version": 3
   },
   "file_extension": ".py",
   "mimetype": "text/x-python",
   "name": "python",
   "nbconvert_exporter": "python",
   "pygments_lexer": "ipython3",
   "version": "3.8.0"
  },
  "name": "Advent2019.ipynb"
 },
 "nbformat": 4,
 "nbformat_minor": 2
}
